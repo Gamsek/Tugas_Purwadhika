{
 "cells": [
  {
   "cell_type": "code",
   "execution_count": 7,
   "metadata": {},
   "outputs": [
    {
     "name": "stdout",
     "output_type": "stream",
     "text": [
      "Panjang nama awalan adalah 4\n"
     ]
    }
   ],
   "source": [
    "#Q1\n",
    "nama = input(\"Masukkan Nama Anda: \").split()\n",
    "print(f'Panjang nama awalan adalah {len(nama[0])}')"
   ]
  },
  {
   "cell_type": "code",
   "execution_count": 8,
   "metadata": {},
   "outputs": [
    {
     "name": "stdout",
     "output_type": "stream",
     "text": [
      "Kode Kamu : RAGMSK\n"
     ]
    }
   ],
   "source": [
    "#Q2\n",
    "nama = input(\"Masukkan Nama Anda: \").upper()\n",
    "print(f'Kode Kamu : {nama[1::2]}')"
   ]
  },
  {
   "cell_type": "code",
   "execution_count": 15,
   "metadata": {},
   "outputs": [
    {
     "name": "stdout",
     "output_type": "stream",
     "text": [
      "jumlah : 22, reverse: 7654\n"
     ]
    }
   ],
   "source": [
    "#Q3 \n",
    "angka = input('Masukkan Empat Nomor Kode Anda : ')\n",
    "angka1 = int(angka[0])\n",
    "angka2 = int(angka[1])\n",
    "angka3 = int(angka[2])\n",
    "angak4 = int(angka[3])\n",
    "\n",
    "jumlah = angka1+angka2+angka3+angak4\n",
    "kebalikan= angka[::-1]\n",
    "print(f'jumlah : {jumlah}, reverse: {kebalikan}')"
   ]
  },
  {
   "cell_type": "code",
   "execution_count": 16,
   "metadata": {},
   "outputs": [
    {
     "name": "stdout",
     "output_type": "stream",
     "text": [
      "slope: 2.0, distance: 2.236\n"
     ]
    }
   ],
   "source": [
    "#Q4\n",
    "import math\n",
    "\n",
    "x1, y1 = input('Masukkan Angka Anda: ').split(',')\n",
    "x2, y2 = input('Masukkan Angka Anda: ').split(',')\n",
    "\n",
    "deltaY = float(y2) - float(y1)\n",
    "deltaX = float(x2) - float(x1)\n",
    "\n",
    "slope = deltaY//deltaX\n",
    "distance = round(math.sqrt(deltaX**2 + deltaY**2), 3)\n",
    "\n",
    "print(f\"slope: {slope}, distance: {distance}\")"
   ]
  },
  {
   "cell_type": "code",
   "execution_count": 11,
   "metadata": {},
   "outputs": [
    {
     "name": "stdout",
     "output_type": "stream",
     "text": [
      "expected result :  dhiwa purka\n"
     ]
    }
   ],
   "source": [
    "#Q5 \n",
    "text1 , text2 = ('purwa, dhika').split(',')\n",
    "\n",
    "pemisah1 = text2[:4] + text1[3:]\n",
    "pemisah2 = text1[:3] + text2[4:]\n",
    "\n",
    "print(f'expected result : {pemisah1} {pemisah2}')"
   ]
  },
  {
   "cell_type": "code",
   "execution_count": 14,
   "metadata": {},
   "outputs": [
    {
     "name": "stdout",
     "output_type": "stream",
     "text": [
      "expected result : jPKdaA\n"
     ]
    }
   ],
   "source": [
    "#Q6\n",
    "text1 = 'joGjaKARTa'\n",
    "text2 = 'PurWAdhiKA'\n",
    "\n",
    "mid = len(text1)//2\n",
    "print(f'expected result : {text1[0]}{text2[0]}{text1[mid]}{text2[mid]}{text1[-1]}{text2[-1]}')"
   ]
  },
  {
   "cell_type": "code",
   "execution_count": null,
   "metadata": {},
   "outputs": [],
   "source": [
    "#Q7\n",
    "text1 = 'JCDS'\n",
    "text2 = '0310'\n",
    "\n",
    "print(f'expected result : {text}')"
   ]
  }
 ],
 "metadata": {
  "kernelspec": {
   "display_name": "Python 3",
   "language": "python",
   "name": "python3"
  },
  "language_info": {
   "codemirror_mode": {
    "name": "ipython",
    "version": 3
   },
   "file_extension": ".py",
   "mimetype": "text/x-python",
   "name": "python",
   "nbconvert_exporter": "python",
   "pygments_lexer": "ipython3",
   "version": "3.12.1"
  }
 },
 "nbformat": 4,
 "nbformat_minor": 2
}
