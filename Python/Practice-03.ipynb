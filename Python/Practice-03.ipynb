{
 "cells": [
  {
   "cell_type": "code",
   "execution_count": 32,
   "metadata": {},
   "outputs": [
    {
     "name": "stdout",
     "output_type": "stream",
     "text": [
      "None\n"
     ]
    }
   ],
   "source": [
    "#SOAL 1 \n",
    "\n",
    "def factorial(n):\n",
    "    if n < 0:\n",
    "        print(None)\n",
    "        return None\n",
    "    elif n == 0:\n",
    "        return 1\n",
    "    else:\n",
    "        return n*factorial(n-1)\n",
    "\n",
    "assert factorial(0) == 1\n",
    "assert factorial(3) == 6\n",
    "assert factorial(10) == 3628800\n",
    "assert factorial(-10) == None\n"
   ]
  },
  {
   "cell_type": "code",
   "execution_count": 4,
   "metadata": {},
   "outputs": [],
   "source": [
    "#SOAL 2 \n",
    "def timeConvert(totalsecond):\n",
    "    if totalsecond == 0:\n",
    "        return \"0s\"\n",
    "    h = 0 \n",
    "    while totalsecond >= 3600:\n",
    "        h += 1 \n",
    "        totalsecond -= 3600\n",
    "    m = 0 \n",
    "    while totalsecond >= 60:\n",
    "        m += 1\n",
    "        totalsecond -= 60\n",
    "    else:\n",
    "        s = totalsecond \n",
    "    \n",
    "    a = []\n",
    "    if h > 0:\n",
    "        a.append(f'{h}h')\n",
    "    if m > 0:\n",
    "        a.append(f'{m}m')\n",
    "    if s > 0:\n",
    "        a.append(f'{s}s')\n",
    "    return \" \".join(a)\n",
    "\n",
    "assert timeConvert(0) == '0s'\n",
    "assert timeConvert(30) == '30s'\n",
    "assert timeConvert(60) == '1m'\n",
    "assert timeConvert(90) == '1m 30s'\n",
    "assert timeConvert(3600) == '1h'\n",
    "assert timeConvert(3601) == '1h 1s'\n",
    "assert timeConvert(3661) == '1h 1m 1s'\n",
    "assert timeConvert(90042) == '25h 42s'\n"
   ]
  },
  {
   "cell_type": "code",
   "execution_count": 33,
   "metadata": {},
   "outputs": [],
   "source": [
    "#SOAL 3 \n",
    "\n",
    "def area(l,w):\n",
    "    return l*w \n",
    "\n",
    "def volume(l,w,h):\n",
    "    return l*w*h\n",
    "\n",
    "assert area(10, 10) == 100\n",
    "assert area(0, 9999) == 0\n",
    "assert volume(10, 10, 10) == 1000\n",
    "assert volume(5, 8, 10) == 400"
   ]
  },
  {
   "cell_type": "code",
   "execution_count": 11,
   "metadata": {},
   "outputs": [],
   "source": [
    "#SOAL 4 \n",
    "def getColor(c,r):\n",
    "    if c < 0 or c > 7 or r < 0 or r > 7:\n",
    "        return ''\n",
    "    elif c%2 == r%2:\n",
    "        return 'white'\n",
    "    else:\n",
    "        return 'black'\n",
    "\n",
    "assert getColor(1, 1) == 'white'\n",
    "assert getColor(2, 1) == 'black'\n",
    "assert getColor(1, 2) == 'black'\n",
    "assert getColor(7, 7) == 'white'\n",
    "assert getColor(0, 8) == ''\n",
    "assert getColor(2, 9) == ''"
   ]
  },
  {
   "cell_type": "code",
   "execution_count": 12,
   "metadata": {},
   "outputs": [
    {
     "data": {
      "text/plain": [
       "'QIIX QI FC XLI VSWI FYWLIW XSRMKLX.'"
      ]
     },
     "execution_count": 12,
     "metadata": {},
     "output_type": "execute_result"
    }
   ],
   "source": [
    "#SOAL 5 \n",
    "def encrypthor(text):\n",
    "    SYMBOL= 'ABCDEFGHIJKLMNOPQRSTUVWXYZ'\n",
    "    output = ''\n",
    "    for word in text.upper():\n",
    "        if word in SYMBOL:\n",
    "            index = SYMBOL.find(word)\n",
    "            index += 4 \n",
    "\n",
    "            if index > len(SYMBOL):\n",
    "                index -= len(SYMBOL)\n",
    "            \n",
    "            output += SYMBOL[index]\n",
    "        else:\n",
    "            output += word\n",
    "    return output\n",
    "\n",
    "encrypthor('Meet me by the rose bushes tonight.')\n",
    "\n",
    "            \n",
    "    "
   ]
  },
  {
   "cell_type": "code",
   "execution_count": 15,
   "metadata": {},
   "outputs": [],
   "source": [
    "#SOAL 6\n",
    "def isLeapYear(year):\n",
    "    if year%400 ==0:\n",
    "        return True\n",
    "    elif year%100 ==0:\n",
    "        return False \n",
    "    elif year%4 ==0:\n",
    "        return True \n",
    "    else:\n",
    "        return False\n",
    "    \n",
    "assert isLeapYear(1999) == False\n",
    "assert isLeapYear(2000) == True\n",
    "assert isLeapYear(2001) == False\n",
    "assert isLeapYear(2004) == True\n",
    "assert isLeapYear(2100) == False\n",
    "assert isLeapYear(2400) == True"
   ]
  },
  {
   "cell_type": "code",
   "execution_count": 28,
   "metadata": {},
   "outputs": [],
   "source": [
    "#SOAL 7\n",
    "def isValidDate(year, month, day):\n",
    "    # Cek apakah tahun, bulan, dan hari berada dalam rentang yang valid\n",
    "    if year < 1 or month < 1 or month > 12 or day < 1:\n",
    "        return False\n",
    "\n",
    "    # Cek apakah jumlah hari pada bulan sesuai\n",
    "    days_in_month = [0, 31, 28, 31, 30, 31, 30, 31, 31, 30, 31, 30, 31]\n",
    "\n",
    "    # Penanganan khusus untuk tahun kabisat\n",
    "    if (year % 4 == 0 and year % 100 != 0) or (year % 400 == 0):\n",
    "        days_in_month[2] = 29\n",
    "\n",
    "    if day > days_in_month[month]:\n",
    "        return False\n",
    "\n",
    "    return True\n",
    "\n",
    "# Test cases\n",
    "assert isValidDate(2001, 2, 29) == False\n",
    "assert isValidDate(2029, 13, 1) == False\n",
    "assert isValidDate(1000000, 1, 1) == True\n",
    "assert isValidDate(2015, 4, 31) == False\n"
   ]
  },
  {
   "cell_type": "code",
   "execution_count": 47,
   "metadata": {},
   "outputs": [],
   "source": [
    "#SOAL 8 \n",
    "def commaFormat(number):\n",
    "    if isinstance(number,int):\n",
    "        return '{:,}'.format(number)\n",
    "    elif isinstance(number,float):\n",
    "        return '{:,.6f}'.format(number)\n",
    "\n",
    "assert commaFormat(1) == '1'\n",
    "assert commaFormat(10) == '10'\n",
    "assert commaFormat(100) == '100'\n",
    "assert commaFormat(1000) == '1,000'\n",
    "assert commaFormat(10000) == '10,000'\n",
    "assert commaFormat(100000) == '100,000'\n",
    "assert commaFormat(1000000) == '1,000,000'\n",
    "assert commaFormat(1234567890) == '1,234,567,890'\n",
    "assert commaFormat(1000.123456) == '1,000.123456'"
   ]
  }
 ],
 "metadata": {
  "kernelspec": {
   "display_name": "Python 3",
   "language": "python",
   "name": "python3"
  },
  "language_info": {
   "codemirror_mode": {
    "name": "ipython",
    "version": 3
   },
   "file_extension": ".py",
   "mimetype": "text/x-python",
   "name": "python",
   "nbconvert_exporter": "python",
   "pygments_lexer": "ipython3",
   "version": "3.12.1"
  }
 },
 "nbformat": 4,
 "nbformat_minor": 2
}
